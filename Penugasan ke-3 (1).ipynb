{
 "cells": [
  {
   "cell_type": "markdown",
   "id": "a728bbf7",
   "metadata": {},
   "source": [
    "## PENUGASAN 3 >_<"
   ]
  },
  {
   "cell_type": "markdown",
   "id": "8e90ccb5",
   "metadata": {},
   "source": [
    "## Tugas 1 Buat Kelas dengan atribut instance"
   ]
  },
  {
   "cell_type": "code",
   "execution_count": 1,
   "id": "1b1ca04e",
   "metadata": {},
   "outputs": [
    {
     "name": "stdout",
     "output_type": "stream",
     "text": [
      "My favorite movie in this month is'Mencuri Raden Saleh'\n",
      "That movie was release on 2022\n"
     ]
    }
   ],
   "source": [
    "class Theather:\n",
    "    def __init__(movie, title, year):\n",
    "        movie.title = title\n",
    "        movie.year = year\n",
    "        \n",
    "    def cinemaongoing(movie):\n",
    "        print(\"My favorite movie in this month is\" + movie.title)\n",
    "        print(\"That movie was release on \" + str(movie.year))\n",
    "        \n",
    "author = Theather(\"'Mencuri Raden Saleh'\",2022)\n",
    "author.cinemaongoing()"
   ]
  },
  {
   "cell_type": "markdown",
   "id": "333c051e",
   "metadata": {},
   "source": [
    "## Tugas 2 Parent and child"
   ]
  },
  {
   "cell_type": "code",
   "execution_count": 2,
   "id": "b3599a57",
   "metadata": {},
   "outputs": [
    {
     "name": "stdout",
     "output_type": "stream",
     "text": [
      "Jeno\n",
      "112010\n",
      "Perkenalkan nama saya Jeno\n",
      "Dengan NIF: 112010\n",
      "UKT: 20000\n",
      "Jurusan: Kedokteran\n"
     ]
    }
   ],
   "source": [
    "class Person(object):\n",
    " \n",
    "    # __init__ is known as the student\n",
    "    def __init__(self, nama, nif):\n",
    "        self.nama = nama\n",
    "        self.nif = nif\n",
    " \n",
    "    def display(self):\n",
    "        print(self.nama)\n",
    "        print(self.nif)\n",
    "         \n",
    "    def details(self):\n",
    "        print(\"Perkenalkan nama saya {}\".format(self.nama))\n",
    "        print(\"Dengan NIF: {}\".format(self.nif))\n",
    "     \n",
    "# child class\n",
    "class Colleger(Person):\n",
    "    def __init__(self, nama, nif, ukt, jurusan):\n",
    "        # super().__init__()\n",
    "        self.ukt = ukt\n",
    "        self.jurusan = jurusan\n",
    " \n",
    "        # invoking the __init__ of the parent class\n",
    "        Person.__init__(self, nama, nif)\n",
    "         \n",
    "    def details(self):\n",
    "        print(\"Perkenalkan nama saya {}\".format(self.nama))\n",
    "        print(\"Dengan NIF: {}\".format(self.nif))\n",
    "        print(\"UKT: {}\".format(self.ukt))\n",
    "        print(\"Jurusan: {}\".format(self.jurusan))\n",
    "        \n",
    "# creation of an object variable or an instance\n",
    "a = Colleger(\"Jeno\", 112010, 20000, \"Kedokteran\")\n",
    " \n",
    "# calling a function of the class Person using\n",
    "# its instance\n",
    "a.display ()\n",
    "a.details ()"
   ]
  },
  {
   "cell_type": "markdown",
   "id": "b643ea66",
   "metadata": {},
   "source": [
    "## Tugas 3 Class Inheritance"
   ]
  },
  {
   "cell_type": "code",
   "execution_count": 3,
   "id": "3dac9f39",
   "metadata": {},
   "outputs": [
    {
     "name": "stdout",
     "output_type": "stream",
     "text": [
      "The seating capacity of a bus is 50 passengers\n"
     ]
    }
   ],
   "source": [
    "class Vehicle:\n",
    "    def __init__(self, name, max_speed, mileage, capacity):\n",
    "        self.name = name\n",
    "        self.max_speed = max_speed\n",
    "        self.mileage = mileage\n",
    "        self.capacity = capacity\n",
    "        \n",
    "    def seating_capacity(self):\n",
    "        print(\"The seating capacity of a\" + self.name + \"is \" + str(self.capacity) +  \"passengers\")\n",
    "        \n",
    "author = Vehicle(\" bus \", 70, 1000, \"50 \")\n",
    "author.seating_capacity()"
   ]
  },
  {
   "cell_type": "code",
   "execution_count": null,
   "id": "77f5578a",
   "metadata": {},
   "outputs": [],
   "source": []
  }
 ],
 "metadata": {
  "kernelspec": {
   "display_name": "Python 3 (ipykernel)",
   "language": "python",
   "name": "python3"
  },
  "language_info": {
   "codemirror_mode": {
    "name": "ipython",
    "version": 3
   },
   "file_extension": ".py",
   "mimetype": "text/x-python",
   "name": "python",
   "nbconvert_exporter": "python",
   "pygments_lexer": "ipython3",
   "version": "3.9.12"
  }
 },
 "nbformat": 4,
 "nbformat_minor": 5
}
